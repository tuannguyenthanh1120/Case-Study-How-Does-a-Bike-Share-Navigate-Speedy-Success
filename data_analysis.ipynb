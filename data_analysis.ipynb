{
 "cells": [
  {
   "cell_type": "code",
   "execution_count": 61,
   "id": "fa7325d6-3667-48fc-a174-329d7bd16430",
   "metadata": {},
   "outputs": [],
   "source": [
    "import pandas as pd"
   ]
  },
  {
   "cell_type": "markdown",
   "id": "f6cc2906-87ab-4e9a-8bf5-1a43425ce665",
   "metadata": {},
   "source": [
    "### TASK 1: IMPORT CLEANED DATA FOR ANALYSIS"
   ]
  },
  {
   "cell_type": "code",
   "execution_count": 63,
   "id": "1523e31b-0ea6-40e8-b77d-6a809badb204",
   "metadata": {},
   "outputs": [],
   "source": [
    "df = pd.read_csv(\"C:\\\\Users\\\\MY PC\\\\Downloads\\\\Casestudy_How_does_a_bike-share_navigate_speedy_success\\\\cleaned_data_2024.csv\")\n"
   ]
  },
  {
   "cell_type": "markdown",
   "id": "186e9a7e-05dc-4d1a-ab2f-918bbe9d8179",
   "metadata": {},
   "source": [
    "### TASK 2: ANALYSIS"
   ]
  },
  {
   "cell_type": "code",
   "execution_count": 65,
   "id": "f6aec01b-17f6-41ac-b00c-96e7645ba4aa",
   "metadata": {},
   "outputs": [],
   "source": [
    "#min, max, median, average ride length in minutes\n",
    "min_value = df['ride_length'].min()\n",
    "max_value = df['ride_length'].max()\n",
    "mean_value = df['ride_length'].mean()\n",
    "median_value = df['ride_length'].median()"
   ]
  },
  {
   "cell_type": "code",
   "execution_count": 66,
   "id": "2b2215cb-82d0-4f75-a5ab-69aa5e172c40",
   "metadata": {},
   "outputs": [],
   "source": [
    "#total number of customers\n",
    "total_customer = len(df)"
   ]
  },
  {
   "cell_type": "code",
   "execution_count": 67,
   "id": "d6917bbd-ac2b-4bba-80f2-a86a663f05a5",
   "metadata": {},
   "outputs": [],
   "source": [
    "#Total ride length for each customer type in minutes\n",
    "total_distance = df.groupby('member_casual')['ride_length'].sum().reset_index()"
   ]
  },
  {
   "cell_type": "code",
   "execution_count": 68,
   "id": "ad03a21c-ede8-4c13-90dd-94bc54c7857a",
   "metadata": {},
   "outputs": [],
   "source": [
    "#Differences between members and casual riders in terms of length of ride\n",
    "difference = df.groupby('member_casual')['ride_length'].agg(['mean', 'median', 'min', 'max']).reset_index()"
   ]
  },
  {
   "cell_type": "code",
   "execution_count": 69,
   "id": "1fb78b5f-2d0c-4580-8bc3-fec4cc4fa166",
   "metadata": {},
   "outputs": [],
   "source": [
    "#Average ride_length for users by day_of_week\n",
    "average_ride_length = df.groupby('day_of_week')['ride_length'].mean().reset_index(name ='average_ride_length')"
   ]
  },
  {
   "cell_type": "code",
   "execution_count": 70,
   "id": "e54878cb-7254-4469-b3d7-a051dbbe1f1b",
   "metadata": {},
   "outputs": [],
   "source": [
    "#Number of total rides by day_of_week\n",
    "total_rides = df.groupby('day_of_week').size().reset_index(name='total_rides')"
   ]
  },
  {
   "cell_type": "code",
   "execution_count": 71,
   "id": "36125e47-27a9-4bed-a414-eda157098010",
   "metadata": {},
   "outputs": [],
   "source": [
    "#Average ride_length by month\n",
    "average_ride_length_by_month = df.groupby('month')['ride_length'].mean().reset_index(name ='average_ride_length')\n"
   ]
  },
  {
   "cell_type": "code",
   "execution_count": 72,
   "id": "1d442ea8-fd08-4985-b99a-3ce26665fb9b",
   "metadata": {},
   "outputs": [],
   "source": [
    "#Average ride length comparison by each week day according to each customer type\n",
    "average_ride_length_by_weakday_and_type = df.groupby(['day_of_week', 'member_casual'])['ride_length'].mean().reset_index(name='average_ride_length')"
   ]
  },
  {
   "cell_type": "code",
   "execution_count": 73,
   "id": "d07d8d7c-938f-48af-90bc-65c7687f54c1",
   "metadata": {},
   "outputs": [],
   "source": [
    "#Average ride length comparison by each month according to each customer type\n",
    "average_ride_length_by_month_and_type = df.groupby(['month', 'member_casual'])['ride_length'].mean().reset_index(name = 'average_ride_length')"
   ]
  },
  {
   "cell_type": "code",
   "execution_count": 74,
   "id": "e8ecd6e9-8a60-4c01-b6ac-e238bd7ef169",
   "metadata": {},
   "outputs": [],
   "source": [
    "#Analyze rider length data by customer type and weekday\n",
    "analyze_by_weekday = df.groupby(['day_of_week','member_casual'])['ride_length'].agg(['mean', 'median', 'min', 'max']).reset_index()"
   ]
  },
  {
   "cell_type": "code",
   "execution_count": 75,
   "id": "f239b32b-c371-477f-84f7-0158318efd4e",
   "metadata": {},
   "outputs": [],
   "source": [
    "#Analyze rider length data by customer type and month\n",
    "analyze_by_month = df.groupby(['month','member_casual'])['ride_length'].agg(['mean', 'median', 'min', 'max']).reset_index()"
   ]
  },
  {
   "cell_type": "code",
   "execution_count": null,
   "id": "cd334fef-062b-4d65-bda2-d13166ef13c0",
   "metadata": {},
   "outputs": [],
   "source": []
  }
 ],
 "metadata": {
  "kernelspec": {
   "display_name": "Python 3 (ipykernel)",
   "language": "python",
   "name": "python3"
  },
  "language_info": {
   "codemirror_mode": {
    "name": "ipython",
    "version": 3
   },
   "file_extension": ".py",
   "mimetype": "text/x-python",
   "name": "python",
   "nbconvert_exporter": "python",
   "pygments_lexer": "ipython3",
   "version": "3.12.4"
  }
 },
 "nbformat": 4,
 "nbformat_minor": 5
}
