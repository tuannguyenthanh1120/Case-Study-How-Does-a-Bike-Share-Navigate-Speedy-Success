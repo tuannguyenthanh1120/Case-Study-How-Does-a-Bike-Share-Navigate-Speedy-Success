{
 "cells": [
  {
   "cell_type": "code",
   "execution_count": 1,
   "id": "fab7d6a2-5cbe-4ac7-800f-8b81c0678f5e",
   "metadata": {},
   "outputs": [],
   "source": [
    "import pandas as pd\n",
    "import os"
   ]
  },
  {
   "cell_type": "markdown",
   "id": "6961f9a0-37cb-45cb-8dc5-33146244a535",
   "metadata": {},
   "source": [
    "### TASK 1: IMPORT AND MERGE 12-MONTH DATA"
   ]
  },
  {
   "cell_type": "code",
   "execution_count": 3,
   "id": "d51cb1be-3246-457f-a82e-a074eaafeaa4",
   "metadata": {},
   "outputs": [],
   "source": [
    "##Create a path\n",
    "path = \"C:\\\\Users\\\\MY PC\\\\Downloads\\\\Casestudy_How_does_a_bike-share_navigate_speedy_success\\\\Customer_Data\\\\\""
   ]
  },
  {
   "cell_type": "code",
   "execution_count": 4,
   "id": "03e3d464-3de2-4e1e-9039-06f59d73cdf3",
   "metadata": {},
   "outputs": [],
   "source": [
    "df01 = pd.read_csv(path + \"1_2024.csv\")\n",
    "df02 = pd.read_csv(path + \"2_2024.csv\")\n",
    "df03 = pd.read_csv(path + \"3_2024.csv\")\n",
    "df04 = pd.read_csv(path + \"4_2024.csv\")\n",
    "df05 = pd.read_csv(path + \"5_2024.csv\")\n",
    "df06 = pd.read_csv(path + \"6_2024.csv\")\n",
    "df07 = pd.read_csv(path + \"7_2024.csv\")\n",
    "df08 = pd.read_csv(path + \"8_2024.csv\")\n",
    "df09 = pd.read_csv(path + \"9_2024.csv\")\n",
    "df10 = pd.read_csv(path + \"10_2024.csv\")\n",
    "df11 = pd.read_csv(path + \"11_2024.csv\")\n",
    "df12 = pd.read_csv(path + \"12_2024.csv\")\n",
    "\n",
    "df = pd.concat([df01, df02, df03, df04, df05, df06, df07, df08, df09, df10,df11, df12])"
   ]
  },
  {
   "cell_type": "markdown",
   "id": "96b1b35e-4de4-4dda-adcc-1bbfb1acd614",
   "metadata": {},
   "source": [
    "## Check if the number of rows in df matches the total number of rows of 12 months?"
   ]
  },
  {
   "cell_type": "code",
   "execution_count": 8,
   "id": "6d9476ab-2014-41fd-b6f8-deed1b4cb779",
   "metadata": {},
   "outputs": [
    {
     "data": {
      "text/plain": [
       "5860568"
      ]
     },
     "execution_count": 8,
     "metadata": {},
     "output_type": "execute_result"
    }
   ],
   "source": [
    "length = len(df01)+ len(df02) +len(df03) +len(df04) +len(df05) +len(df06) +len(df07)+ len(df08)+ len(df09)+ len(df10)+ len(df11)+ len(df12)\n",
    "length"
   ]
  },
  {
   "cell_type": "markdown",
   "id": "33db892a-8c32-4969-a9af-cc90dccfd815",
   "metadata": {},
   "source": [
    "## Save the 12-month file"
   ]
  },
  {
   "cell_type": "code",
   "execution_count": 10,
   "id": "e06b1809-cba1-4269-85d4-482a902de2a6",
   "metadata": {},
   "outputs": [],
   "source": [
    "df.to_csv('customer_data_2024.csv',index = False)"
   ]
  },
  {
   "cell_type": "markdown",
   "id": "6840ccd6-bc6a-4c3e-a985-1605332d39f8",
   "metadata": {},
   "source": [
    "### TASK 2: CLEANING DATA"
   ]
  },
  {
   "cell_type": "code",
   "execution_count": 12,
   "id": "35f59ad1-2d37-4125-87bd-4e6be9283d10",
   "metadata": {},
   "outputs": [],
   "source": [
    "##remove rows contain missing value\n",
    "df = df.dropna()"
   ]
  },
  {
   "cell_type": "code",
   "execution_count": 13,
   "id": "05037297-a3db-4419-a373-77d737aece2e",
   "metadata": {},
   "outputs": [],
   "source": [
    "##remove rows contain duplicates value\n",
    "df = df.drop_duplicates()"
   ]
  },
  {
   "cell_type": "code",
   "execution_count": 14,
   "id": "b9d47cb8-e933-4ca6-9fc9-414a4d5a722c",
   "metadata": {},
   "outputs": [],
   "source": [
    "#Remove data with greater start_at than end_at\n",
    "df['started_at'] = pd.to_datetime(df['started_at'])\n",
    "df['ended_at'] = pd.to_datetime(df['ended_at'])\n",
    "df = df[df['started_at'] <= df['ended_at']]"
   ]
  },
  {
   "cell_type": "code",
   "execution_count": 15,
   "id": "2fae4d39-51ac-4c44-b9b0-d3dd6efcc05e",
   "metadata": {},
   "outputs": [],
   "source": [
    "#format timeline in dataframes for slice month, day, time\n",
    "df['started_at'] = pd.to_datetime(df['started_at'])\n",
    "df['ended_at'] = pd.to_datetime(df['ended_at'])\n",
    "df['started_at'] = df['started_at'].astype(str).replace('-', '/', regex=True)\n",
    "df['ended_at'] = df['ended_at'].astype(str).replace('-', '/', regex=True)"
   ]
  },
  {
   "cell_type": "code",
   "execution_count": 16,
   "id": "3f221491-7902-4dfd-b3e3-a58d360d4ec5",
   "metadata": {},
   "outputs": [],
   "source": [
    "#slice day,month, weekday\n",
    "df['month'] = df['started_at'].str[5:7]\n",
    "df['day'] = df['started_at'].str[8:10]\n",
    "#change datatype of started_at for finding day of week\n",
    "df['started_at'] = pd.to_datetime(df['started_at'])\n",
    "df['day_of_week'] = df['started_at'].dt.day_name()\n",
    "#slice time\n",
    "df['time'] = df['started_at'].dt.strftime('%H:%M')\n",
    "#add ride_length collumn\n",
    "df['started_at'] = pd.to_datetime(df['started_at'])\n",
    "df['ended_at'] = pd.to_datetime(df['ended_at'])\n",
    "df['ride_length'] = df['ended_at'] - df['started_at']\n",
    "df['ride_length'] = df['ride_length'].apply(lambda x: x.total_seconds() / 60)\n",
    "df['ride_length'] = df['ride_length'].astype(int)"
   ]
  },
  {
   "cell_type": "code",
   "execution_count": 17,
   "id": "a84da32a-26be-408a-995d-eb90bf1207a8",
   "metadata": {},
   "outputs": [],
   "source": [
    "#remove stolen bikes\n",
    "df = df[df['ride_length'] <= 1440]\n",
    "df = df[df['ride_length'] >= 5]"
   ]
  },
  {
   "cell_type": "code",
   "execution_count": 18,
   "id": "27c47da7-721c-4627-9aff-e3e68ffd7564",
   "metadata": {},
   "outputs": [],
   "source": [
    "#keep the columns we will use\n",
    "columns_to_keep = ['rideable_type', 'member_casual','month','time','day','day_of_week', 'ride_length']\n",
    "df = df[columns_to_keep]"
   ]
  },
  {
   "cell_type": "markdown",
   "id": "4e3f1fe6-ce28-4197-a64d-aa69ae618b98",
   "metadata": {},
   "source": [
    "### TASK 3: SAVE THE DATA FOR ANALYSIS"
   ]
  },
  {
   "cell_type": "code",
   "execution_count": 19,
   "id": "62e1389a-694d-4579-abd9-07cd123065b7",
   "metadata": {},
   "outputs": [],
   "source": [
    "#save the data for analysis\n",
    "df.to_csv('cleaned_data_2024.csv',index = False)"
   ]
  },
  {
   "cell_type": "code",
   "execution_count": null,
   "id": "d3a9abe6-0647-4c25-8259-46846044db31",
   "metadata": {},
   "outputs": [],
   "source": []
  }
 ],
 "metadata": {
  "kernelspec": {
   "display_name": "Python 3 (ipykernel)",
   "language": "python",
   "name": "python3"
  },
  "language_info": {
   "codemirror_mode": {
    "name": "ipython",
    "version": 3
   },
   "file_extension": ".py",
   "mimetype": "text/x-python",
   "name": "python",
   "nbconvert_exporter": "python",
   "pygments_lexer": "ipython3",
   "version": "3.12.4"
  }
 },
 "nbformat": 4,
 "nbformat_minor": 5
}
